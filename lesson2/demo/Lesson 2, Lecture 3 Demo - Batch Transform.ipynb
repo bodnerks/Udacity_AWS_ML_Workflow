{
 "cells": [
  {
   "cell_type": "markdown",
   "id": "fe050337",
   "metadata": {},
   "source": [
    "# UDACITY: Batch Transform Demo"
   ]
  },
  {
   "cell_type": "code",
   "execution_count": null,
   "id": "4112f374",
   "metadata": {},
   "outputs": [],
   "source": [
    "from sagemaker import get_execution_role\n",
    "from sagemaker.model import Model\n",
    "from sagemaker import image_uris\n",
    "\n",
    "role = get_execution_role()\n",
    "\n",
    "# You'll need to confirm that this region is located in the same place as the S3 uri of your training job.\n",
    "# (Check the upper right-hand side of the console.)\n",
    "\n",
    "image_uri = image_uris.retrieve(framework='xgboost',region='us-east-1', version='latest')\n",
    "\n",
    "# You'll need to replace this with the output uri of a training job. \n",
    "\n",
    "model_data = \"s3://udacity-aws-ml-boston-housing-data/output/xgboost-2022-05-31-05-18-31-040/output/model.tar.gz\"\n",
    "\n",
    "# You'll need to replace this with the desired output of your batch transform job. \n",
    "\n",
    "batch_transform_output_path = \"s3://udacity-aws-ml-boston-housing-data/output/xgboost-2022-05-31-05-18-31-040/output/transform\"\n",
    "\n",
    "model = Model(image_uri=image_uri, model_data=model_data, role=role)\n",
    "\n",
    "transformer = model.transformer(\n",
    "    instance_count=1,\n",
    "    instance_type='ml.m4.xlarge',\n",
    "    output_path=batch_transform_output_path\n",
    ")\n",
    "\n",
    "# You'll need to replace the output data with your S3 uri of your dataset in S3. \n",
    "\n",
    "transformer.transform(\n",
    "    data=\"s3://udacity-aws-ml-boston-housing-data/test.csv\",\n",
    "    data_type='S3Prefix',\n",
    "    content_type='text/csv',\n",
    "    split_type='Line'\n",
    ")\n"
   ]
  }
 ],
 "metadata": {
  "kernelspec": {
   "display_name": "Python 3 (ipykernel)",
   "language": "python",
   "name": "python3"
  },
  "language_info": {
   "codemirror_mode": {
    "name": "ipython",
    "version": 3
   },
   "file_extension": ".py",
   "mimetype": "text/x-python",
   "name": "python",
   "nbconvert_exporter": "python",
   "pygments_lexer": "ipython3",
   "version": "3.9.12"
  }
 },
 "nbformat": 4,
 "nbformat_minor": 5
}
